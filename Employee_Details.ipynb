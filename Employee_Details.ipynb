{
  "nbformat": 4,
  "nbformat_minor": 0,
  "metadata": {
    "colab": {
      "provenance": [],
      "authorship_tag": "ABX9TyNrFb01Kb1Ym/ke2pOneiIU",
      "include_colab_link": true
    },
    "kernelspec": {
      "name": "python3",
      "display_name": "Python 3"
    },
    "language_info": {
      "name": "python"
    }
  },
  "cells": [
    {
      "cell_type": "markdown",
      "metadata": {
        "id": "view-in-github",
        "colab_type": "text"
      },
      "source": [
        "<a href=\"https://colab.research.google.com/github/Ananya020720/bdhj/blob/main/Employee_Details.ipynb\" target=\"_parent\"><img src=\"https://colab.research.google.com/assets/colab-badge.svg\" alt=\"Open In Colab\"/></a>"
      ]
    },
    {
      "cell_type": "code",
      "execution_count": 6,
      "metadata": {
        "colab": {
          "base_uri": "https://localhost:8080/"
        },
        "id": "Vx9TVe2ASNif",
        "outputId": "a0865acc-c692-459a-8b75-3ebf42bd1082"
      },
      "outputs": [
        {
          "output_type": "stream",
          "name": "stdout",
          "text": [
            "Enter the number of Employees: 2\n",
            "Enter Employee 1 Details\n",
            "Enter Employee ID: 100\n",
            "Enter Employee Name: ABC\n",
            "Enter Employee Age: 30\n",
            "Enter Department: Sales\n",
            "Enter Salary: 30000\n",
            "Enter Employee 2 Details\n",
            "Enter Employee ID: 200\n",
            "Enter Employee Name: CDB\n",
            "Enter Employee Age: 30\n",
            "Enter Department: 30000\n",
            "Enter Salary: 30000\n",
            "\n",
            "--- Employee Details ---\n",
            "ID         NAME            AGE   DEPARTMENT      SALARY    \n",
            "------------------------------------------------------------\n",
            "200        CDB             30    30000           30000.00  \n",
            "200        CDB             30    30000           30000.00  \n"
          ]
        }
      ],
      "source": [
        "employee_details =[]\n",
        "num = int(input(\"Enter the number of Employees: \"))\n",
        "temp = {}\n",
        "\n",
        "for i in range(1,num+1):\n",
        "  print(f\"Enter Employee {i} Details\")\n",
        "  temp[\"id\"] = int(input(\"Enter Employee ID: \"))\n",
        "  temp[\"name\"] = input(\"Enter Employee Name: \")\n",
        "  temp[\"age\"] = int(input(\"Enter Employee Age: \"))\n",
        "  temp[\"dept\"] = input(\"Enter Department: \")\n",
        "  temp[\"salary\"] = int(input(\"Enter Salary: \"))\n",
        "  employee_details.append(temp)\n",
        "\n",
        "print(\"\\n--- Employee Details ---\")\n",
        "print(f\"{'ID':<10} {'NAME':<15} {'AGE':<5} {'DEPARTMENT':<15} {'SALARY':<10}\")\n",
        "print(\"-\" * 60)\n",
        "\n",
        "for emp in employee_details:\n",
        "    print(f\"{emp['id']:<10} {emp['name']:<15} {emp['age']:<5} {emp['dept']:<15} {emp['salary']:<10.2f}\")\n"
      ]
    },
    {
      "cell_type": "code",
      "source": [],
      "metadata": {
        "id": "-M0s_aU4S1gr"
      },
      "execution_count": null,
      "outputs": []
    }
  ]
}